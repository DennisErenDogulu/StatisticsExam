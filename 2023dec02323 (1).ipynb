{
 "cells": [
  {
   "cell_type": "code",
   "execution_count": 1,
   "metadata": {},
   "outputs": [],
   "source": [
    "import numpy as np\n",
    "import matplotlib.pyplot as plt\n",
    "import pandas as pd\n",
    "import scipy.stats as stats\n",
    "import statsmodels.api as sm\n",
    "import statsmodels.formula.api as smf\n",
    "import statsmodels.stats.power as smp\n",
    "import statsmodels.stats.proportion as smprop"
   ]
  },
  {
   "cell_type": "markdown",
   "metadata": {},
   "source": [
    "### Exercise I\n",
    "\n",
    "A population is exponentially distributed with rate $\\lambda = 2$. \n",
    "\n",
    "**Question I.1**\n",
    "\n",
    "Which of the following statements is true?\n",
    "\n",
    "1. The probability of obtaining an observation between 1 and 2 in a random draw can be calculated in Python by `expon.cdf(1, scale=1/2) - expon.cdf(2, scale=1/2)`\n",
    "2. The probability of obtaining an observation below 1 in a random draw can be calculated in Python by `expon.cdf(2, scale=1/2)`\n",
    "3. The probability of obtaining an observation below 1 in a random draw can be calculated in Python by `1 - expon.cdf(1, scale=1/2)`\n",
    "4. The probability of obtaining an observation above 3 in a random draw can be calculated in Python by `expon.pdf(3, scale=1/2)`\n",
    "5. **None of the above statements are correct.**"
   ]
  },
  {
   "cell_type": "markdown",
   "metadata": {},
   "source": [
    "**Facit** <br>\n",
    "The four answers are wrong:\n",
    "1. It is the wrong order of subtraction, so a negative probability\n",
    "2. It’s below 2\n",
    "3. It’s the prbability when observation is above 1\n",
    "4. It’s the probability density function at 3"
   ]
  },
  {
   "cell_type": "markdown",
   "metadata": {},
   "source": [
    "**Question I.2**\n",
    "\n",
    "According to the central limit theorem (CLT), what type of distribution approximates the mean of a random sample with $n = 100$ observations from the population?\n",
    "\n",
    "1. The standard normal distribution\n",
    "2. **A normal distribution (that is not also a standard normal distribution)**\n",
    "3. An exponential distribution\n",
    "4. A Poisson distribution\n",
    "5. An F-distribution"
   ]
  },
  {
   "cell_type": "markdown",
   "metadata": {},
   "source": [
    "**Facit** <br>\n",
    "\n",
    "The **Central Limit Theorem (CLT)** states that the sampling distribution of the sample mean will approximate a **normal distribution**, regardless of the population's original distribution, as long as the sample size is sufficiently large. \n",
    "\n",
    "For a sample size of $ n = 100 $, the CLT implies:\n",
    "\n",
    "1. The sample mean will approximately follow a **normal distribution**, even if the population distribution is not normal.\n",
    "2. This approximation improves as $ n $ increases. For $ n = 100 $, which is relatively large, the approximation is expected to be very accurate.\n",
    "\n",
    "*Key Points:*\n",
    "- The CLT applies to the sampling distribution of the mean, not the individual data points.\n",
    "- The population's distribution does not have to be normal for the sample mean to approximate a normal distribution.\n",
    "- The sample size $ n = 100 $ is \"large enough\" for the CLT to hold well in most cases, making the normal approximation valid."
   ]
  },
  {
   "cell_type": "code",
   "execution_count": null,
   "metadata": {},
   "outputs": [
    {
     "data": {
      "image/png": "[encoded data removed]",
      "text/plain": [
       "<Figure size 640x480 with 1 Axes>"
      ]
     },
     "metadata": {},
     "output_type": "display_data"
    }
   ],
   "source": [
    "# For 5000 means, each calculated from 100 data from exponential distribution, the histogram shows normal distribution of the sample means. \n",
    "import numpy as np\n",
    "import matplotlib.pyplot as plt\n",
    "\n",
    "# Simulation for illustration\n",
    "n = 100\n",
    "means = [np.mean(np.random.exponential(1/2, n)) for _ in range(5000)]\n",
    "plt.hist(means, bins=50, density=True)\n",
    "plt.title(\"CLT Simulation for n=100\")\n",
    "plt.xlabel(\"Sample Mean\")\n",
    "plt.ylabel(\"Density\")\n",
    "plt.show()"
   ]
  },
  {
   "cell_type": "markdown",
   "metadata": {},
   "source": [
    "### Exercise II\n",
    "\n",
    "A one-way ANOVA model has been fitted to some data from a balanced experiment (an equal number of observations for each treatment). The ANOVA table from the analysis is given below, where some numbers are replaced by letters.\n",
    "\n",
    "| Source     | DF | SS  | MS   | Test Statistic | p-value |\n",
    "|------------|----|------|------|----------------|---------|\n",
    "| Treatment  | 9  | 207  | D    | E              | 0.03    |\n",
    "| Residual   | 50 | B    | C    |                |         |\n",
    "| Total      | A  | 707  |      |                |         |\n",
    "\n",
    "**Question II.1 (3)**  \n",
    "\n",
    "Which set of values is consistent with the ANOVA table?  \n",
    "\n",
    "1  □ $ A = 59 $, $ B = 914 $, and $ D = 23 $  \n",
    "2* □ $ A = 59 $, $ C = 10 $, and $ E = 2.3 $  \n",
    "3  □ $ A = 450 $, $ D = 23 $, and $ E = 2.3 $  \n",
    "4  □ $ B = 500 $, $ C = 23 $, and $ D = 10 $  \n",
    "5  □ $ B = 914 $, $ C = 10 $, and $ E = 23 $  \n",
    "\n",
    "**Facit**\n",
    "\n",
    "Consider the following Table shown in Chapter 8\n",
    "\n",
    "**ANOVA Table**\n",
    "\n",
    "| **Source of Variation** | **Degrees of Freedom** | **Sums of Squares**       | **Mean Sum of Squares**                                                                                   | **Test Statistic $ F $**                                       | **p-value**                           |\n",
    "|--------------------------|------------------------|---------------------------|-----------------------------------------------------------------------------------------------------------|-------------------------------------------------------------------|---------------------------------------|\n",
    "| Treatment               | $ k - 1 $           | $ SS(\\text{Tr}) $       | $ MS(\\text{Tr}) = \\frac{SS(\\text{Tr})}{k - 1} $                                                        | $ F_{\\text{obs}} = \\frac{MS(\\text{Tr})}{MSE} $                | $ P(F > F_{\\text{obs}}) $           |\n",
    "| Residual                | $ n - k $           | $ SSE $                 | $ MSE = \\frac{SSE}{n - k} $                                                                             |                                                                   |                                       |\n",
    "| Total                   | $ n - 1 $           | $ SST $                 |                                                                                                           |                                                                   |                                       |\n",
    "\n",
    "This structure outlines the ANOVA decomposition for balanced data. It includes the degrees of freedom (DF), sums of squares (SS), mean sums of squares (MS), F-test statistic, and the p-value.\n",
    "\n",
    "\n",
    "The missing values are calculated as  \n",
    "\n",
    "$A = 50 + 9 = 59, $ <br>\n",
    "$B = 707 - 207 = 500, $ <br>\n",
    "$C = \\frac{B}{50} = \\frac{500}{50} = 10$, <br>\n",
    "$D = \\frac{207}{9} = 23,$ <br> \n",
    "$E = \\frac{D}{C} = \\frac{23}{10} = 2.3$\n",
    "  \n",
    "\n",
    "Therefore, answer 2 is correct."
   ]
  },
  {
   "cell_type": "markdown",
   "metadata": {},
   "source": [
    "**Question II.2 (4)**\n",
    "\n",
    "Two specific treatments are then compared in the post hoc analysis. What is the least significant difference between the two treatment means using a 5% significance level?  \n",
    "\n",
    "1 □ 2.841  \n",
    "2 □ 3.060  \n",
    "3 □ 3.199  \n",
    "4* □ 3.667  \n",
    "5 □ 4.130  "
   ]
  },
  {
   "cell_type": "markdown",
   "metadata": {},
   "source": [
    "**Facit**\n",
    "\n",
    "*Remark 8.13 Least Significant Difference (LSD) values*\n",
    "\n",
    "If there is the same number of observations in each treatment group $ m = n_1 = \\dots = n_k $, the LSD value for a particular significance level  \n",
    "\n",
    "$ LSD_\\alpha = t_{1-\\alpha/2} \\sqrt{2 \\cdot \\frac{MSE}{m}} $ \n",
    "\n",
    "will have the same value for all the possible comparisons made.  \n",
    "\n",
    "Since there are $ n = 60 $ observations across the $ k = 10 $ treatments and the experiment is balanced, there are $ m = 6 $ observations for each treatment. Thus,  \n",
    "\n",
    "$LSD_{0.05} = t_{0.975}(50) \\sqrt{2 \\cdot \\frac{10}{6}} = 3.667,$ \n",
    "\n",
    "which means answer 4 is correct.  "
   ]
  },
  {
   "cell_type": "markdown",
   "metadata": {},
   "source": [
    "The formula from remark 8.13 is used:\n",
    "\n",
    "$\n",
    "LSD_\\alpha = t_{1-\\alpha/2}(n-k)\\sqrt{\\frac{2 \\cdot MSE}{m}}.\n",
    "$\n",
    "\n",
    "Since there are \\(n = 60\\) observations across the \\(k = 10\\) treatments and the experiment is balanced, there are \\(m = 6\\) observations for each treatment. Thus,\n",
    "\n",
    "$\n",
    "LSD_{0.05} = t_{0.975}(50)\\sqrt{\\frac{2 \\cdot 10}{6}} = 3.667,\n",
    "$\n",
    "\n",
    "which means answer 4 is correct."
   ]
  },
  {
   "cell_type": "markdown",
   "metadata": {},
   "source": [
    "### Exercise III\n",
    "\n",
    "Temperature in the indoor environment is an important part of people’s well-being, and in addition, heating is an important part of the energy consumption in houses.\n",
    "\n",
    "A house owner is considering the indoor temperature in one of the rooms of his house. As a first approach, he decides to analyze the daily average temperature in the room over a period of time. The Python output from his analysis is given below (the variable `temp` contains the daily average temperatures in the room).\n",
    "\n",
    "---\n",
    "\n",
    "**Python Output:**\n",
    "\n",
    "```plaintext\n",
    "One Sample t-test\n",
    "\n",
    "data: temp\n",
    "t = 160.53, df = 233, p-value < 2.2e-16\n",
    "alternative hypothesis: true mean is not equal to 0\n",
    "95 percent confidence interval:\n",
    " 19.97593 20.47234\n",
    "sample estimates:\n",
    "mean of x:\n",
    " 20.22413\n"
   ]
  },
  {
   "cell_type": "markdown",
   "metadata": {},
   "source": [
    "\n",
    "**Question III.1 (5)**  \n",
    "\n",
    "How many days did the house owner use for the analysis?  \n",
    "\n",
    "1 □ 366  \n",
    "2 □ 364  \n",
    "3* □ 234  \n",
    "4 □ 365  \n",
    "5 □ 233  \n",
    "\n",
    "**Facit**\n",
    "\n",
    "Degrees of freedom is equal n − 1 and hence n = 233 + 1 = 234 days included.\n"
   ]
  },
  {
   "cell_type": "code",
   "execution_count": 10,
   "metadata": {},
   "outputs": [
    {
     "data": {
      "text/plain": [
       "0.0013961876284806505"
      ]
     },
     "execution_count": 10,
     "metadata": {},
     "output_type": "execute_result"
    }
   ],
   "source": [
    "se = (20.22413-20)/160.53\n",
    "se\n"
   ]
  },
  {
   "cell_type": "code",
   "execution_count": null,
   "metadata": {},
   "outputs": [
    {
     "name": "stdout",
     "output_type": "stream",
     "text": [
      "The p-value is: 0.0000\n"
     ]
    }
   ],
   "source": [
    "###Incomplete.....\n",
    "\n",
    "import scipy.stats as stats\n",
    "\n",
    "# Define the parameters\n",
    "mean_diff = 20.22413 - 20  # Difference between the sample mean and the hypothesized mean\n",
    "se = mean_diff / 160.53  # Standard error (example value, replace with actual calculation if needed)\n",
    "df = 233  # Degrees of freedom\n",
    "\n",
    "# Calculate the two-tailed p-value\n",
    "p_value = 2 * (1 - stats.t.cdf(mean_diff / se, df=df))\n",
    "\n",
    "# Display the result\n",
    "print(f\"The p-value is: {p_value:.4f}\")\n"
   ]
  },
  {
   "cell_type": "markdown",
   "metadata": {},
   "source": [
    "### Question III.4 (8)\n",
    "\n",
    "Suppose we instead had used the (unprovided) test statistic $ Q $ for testing if there is a significant temperature difference between the two months. What are the critical values using a significance level $ \\alpha = 0.01 $?  \n",
    "\n",
    "1 □ ±1.832  \n",
    "2 □ ±1.960  \n",
    "3 □ ±2.005  \n",
    "4 □ ±2.398  \n",
    "5*□ ±2.671  \n",
    "\n",
    "**Facit**"
   ]
  },
  {
   "cell_type": "code",
   "execution_count": 15,
   "metadata": {},
   "outputs": [
    {
     "name": "stdout",
     "output_type": "stream",
     "text": [
      "The critical_value is: 2.671\n"
     ]
    }
   ],
   "source": [
    "from scipy.stats import t\n",
    "\n",
    "# Calculate the critical t-value\n",
    "critical_value = t.ppf(q= 0.995, df= 53.627)\n",
    "\n",
    "# Display the result\n",
    "print(f\"The critical_value is: {critical_value:.3f}\")"
   ]
  },
  {
   "attachments": {
    "image.png": {
     "image/png": "[encoded data removed]"
    }
   },
   "cell_type": "markdown",
   "metadata": {},
   "source": [
    "### Exercise IV\n",
    "\n",
    "An energy trading company wants to learn about the electricity price in a particular area for a particular period. They download data from the market and calculate the daily electricity price and relevant weather variables. The following variables are in the data set:\n",
    "\n",
    "- **Price**: the electricity price in the market  \n",
    "- **Cloudcover**: cloud cover (in %)  \n",
    "- **Humid**: relative humidity  \n",
    "- **Temperature**: temperature  \n",
    "- **Windspeed**: wind speed  \n",
    "\n",
    "![image.png](attachment:image.png)\n",
    "\n",
    "\n",
    "### Question IV.1 (10)\n",
    "\n",
    "**How many days are included in the data set?**\n",
    "\n",
    "1 □ 51  \n",
    "2 □ 55  \n",
    "3 □ 56  \n",
    "4 □ 57  \n",
    "5* □ 61  \n",
    "\n",
    "**Facit**\n",
    "\n",
    "The number of observations is equal to the degrees of freedom plus the number of parameters\n",
    "in the model.\n"
   ]
  },
  {
   "cell_type": "markdown",
   "metadata": {},
   "source": [
    "### Exercise V\n",
    "This exercise contains questions related to supermarkets.  \n",
    "\n",
    "**Question V.1 (13)**  \n",
    "Back in the days, the cashiers in the supermarket entered the prices manually on the cash register. When employees were tired, they would often make errors when entering the prices. Assume that for a particular situation, they randomly made a price error for 5% of the customers. Assume independence of the price enterings.  \n",
    "\n",
    "What is the probability that 10 or more out of 100 customers would experience a price error?  \n",
    "\n",
    "Options:  \n",
    "1 □ 0.0015  \n",
    "2 □ 0.0043  \n",
    "3* □ 0.028  \n",
    "4 □ 0.063  \n",
    "5 □ 0.55\n",
    "\n",
    "**Facit**"
   ]
  },
  {
   "cell_type": "code",
   "execution_count": null,
   "metadata": {},
   "outputs": [
    {
     "name": "stdout",
     "output_type": "stream",
     "text": [
      "The probability that 10 or more out of 100 customers would experience a price error: 0.028\n"
     ]
    }
   ],
   "source": [
    "### Python Code:\n",
    "from scipy.stats import binom\n",
    "\n",
    "# Calculate probability\n",
    "probability = 1 - binom.cdf(k=9, n=100, p=0.05)\n",
    "print(f\"The probability that 10 or more out of 100 customers would experience a price error: {probability:.3f}\")\n",
    "\n",
    "# k (9): This is the maximum number of \"successes\" (price errors in this context) \n",
    "# for which the CDF is calculated. The function calculates the probability of observing k or fewer successes.\n",
    "# n (100): This is the total number of trials (in this case, the total number of customers).\n",
    "# p (0.05): This is the probability of success (making a price error) in a single trial."
   ]
  },
  {
   "cell_type": "markdown",
   "metadata": {},
   "source": [
    "### Question V.2 (14)\n",
    "\n",
    "In a study of a supermarket, the arrival rate of customers is assumed to be 200 customers/hour in the peak hours. Customers arrive according to a Poisson process. If more than 250 customers arrive in an hour, the store’s capacity will be exceeded. \n",
    "\n",
    "**What is the probability that the store’s capacity is *not* exceeded during a peak hour?**\n",
    "\n",
    "1 □ 0.00028  \n",
    "2 □ 0.00061  \n",
    "3 □ 0.51879  \n",
    "4 □ 0.92470  \n",
    "5* □ 0.99972  "
   ]
  },
  {
   "cell_type": "code",
   "execution_count": 9,
   "metadata": {},
   "outputs": [
    {
     "name": "stdout",
     "output_type": "stream",
     "text": [
      "The probability that the store's capacity is not exceeded during a peak hour is: 0.99972\n"
     ]
    }
   ],
   "source": [
    "import scipy.stats as stats\n",
    "from scipy.stats import poisson\n",
    "\n",
    "# Parameters\n",
    "arrival_rate = 200  # average arrivals per hour\n",
    "capacity = 250      # maximum capacity\n",
    "\n",
    "# Calculate the probability that the number of arrivals is within the capacity (<= 250)\n",
    "probability_within_capacity = poisson.cdf(capacity, arrival_rate)\n",
    "\n",
    "# Display the result\n",
    "print(f\"The probability that the store's capacity is not exceeded during a peak hour is: {probability_within_capacity:.5f}\")\n"
   ]
  },
  {
   "cell_type": "markdown",
   "metadata": {},
   "source": [
    "### Question VI.1 (16)\n"
   ]
  },
  {
   "cell_type": "code",
   "execution_count": null,
   "metadata": {},
   "outputs": [
    {
     "name": "stdout",
     "output_type": "stream",
     "text": [
      "The proportion of x + y > 3 is: 0.078\n"
     ]
    }
   ],
   "source": [
    "import numpy as np\n",
    "\n",
    "# Parameters\n",
    "rate_x = 1.2\n",
    "rate_y = 1.7\n",
    "n_samples = 1000000\n",
    "\n",
    "# Generate random samples\n",
    "x = np.random.exponential(scale=1/rate_x, size=n_samples)\n",
    "y = np.random.exponential(scale=1/rate_y, size=n_samples)\n",
    "\n",
    "# Calculate the proportion where x + y > 3\n",
    "proportion = np.mean((x + y) > 3)\n",
    "\n",
    "# Display the result\n",
    "print(f\"The proportion of x + y > 3 is: {proportion:.3f}\")\n"
   ]
  },
  {
   "cell_type": "markdown",
   "metadata": {},
   "source": [
    "### Question VII.2 (18)\n",
    "Which of the following calls in Python calculates the width of the 99% confidence interval for β_0?"
   ]
  },
  {
   "cell_type": "markdown",
   "metadata": {},
   "source": [
    "*1.□ 2 * t.ppf(0.995, 28) * 0.49844\n",
    "\n",
    "2.□ 2 * t.ppf(0.995, 28) * 0.09284\n",
    "\n",
    "3.□ t.ppf(0.995, 27) * 0.49844\n",
    "\n",
    "4.□ t.ppf(0.95, 28) * 0.09284\n",
    "\n",
    "5.□ t.ppf(0.99, 28) * 0.43369\n"
   ]
  },
  {
   "cell_type": "markdown",
   "metadata": {},
   "source": [
    "### Exercise IX\n",
    "As part of a study on adaptive learning platforms, 47 students volunteered to try a new teaching method for the entire semester. The students' performances were tested by a pretest before the semester and a posttest after the semester.\n",
    "\n",
    "Pretest scores are stored in pretest and posttest scores are stored in posttest. Both are ordered by student number."
   ]
  },
  {
   "cell_type": "markdown",
   "metadata": {},
   "source": [
    "### Question IX.1 (21)\n",
    "\n",
    "the following code was run:"
   ]
  },
  {
   "cell_type": "code",
   "execution_count": 4,
   "metadata": {},
   "outputs": [
    {
     "ename": "NameError",
     "evalue": "name 'your_pretest_scores_here' is not defined",
     "output_type": "error",
     "traceback": [
      "\u001b[1;31m---------------------------------------------------------------------------\u001b[0m",
      "\u001b[1;31mNameError\u001b[0m                                 Traceback (most recent call last)",
      "Cell \u001b[1;32mIn[4], line 4\u001b[0m\n\u001b[0;32m      1\u001b[0m \u001b[38;5;28;01mimport\u001b[39;00m \u001b[38;5;21;01mnumpy\u001b[39;00m \u001b[38;5;28;01mas\u001b[39;00m \u001b[38;5;21;01mnp\u001b[39;00m\n\u001b[0;32m      3\u001b[0m \u001b[38;5;66;03m# Assuming `pretest` is a numpy array or list\u001b[39;00m\n\u001b[1;32m----> 4\u001b[0m pretest \u001b[38;5;241m=\u001b[39m np\u001b[38;5;241m.\u001b[39marray([\u001b[43myour_pretest_scores_here\u001b[49m])  \u001b[38;5;66;03m# Replace with actual scores\u001b[39;00m\n\u001b[0;32m      6\u001b[0m \u001b[38;5;66;03m# Sum of pretest scores\u001b[39;00m\n\u001b[0;32m      7\u001b[0m pretest_sum \u001b[38;5;241m=\u001b[39m np\u001b[38;5;241m.\u001b[39msum(pretest)\n",
      "\u001b[1;31mNameError\u001b[0m: name 'your_pretest_scores_here' is not defined"
     ]
    }
   ],
   "source": [
    "import numpy as np\n",
    "\n",
    "# Assuming `pretest` is a numpy array or list\n",
    "pretest = np.array([your_pretest_scores_here])  # Replace with actual scores\n",
    "\n",
    "# Sum of pretest scores\n",
    "pretest_sum = np.sum(pretest)\n",
    "print(\"Sum of pretest:\", pretest_sum)\n",
    "\n",
    "# Quantiles (25th, 50th, 75th percentile)\n",
    "quantiles = np.percentile(pretest, [25, 50, 75])\n",
    "print(\"25%:\", quantiles[0])\n",
    "print(\"50%:\", quantiles[1])\n",
    "print(\"75%:\", quantiles[2])\n"
   ]
  },
  {
   "cell_type": "markdown",
   "metadata": {},
   "source": [
    "Here is the content from the image:\n",
    "\n",
    "---\n",
    "\n",
    "Which of the following statements can be concluded about the pretest scores:\n",
    "\n",
    "1. ☐ The mean of the pretest scores is 30  \n",
    "2. ☐ The median of the pretest scores is 34.5  \n",
    "*3. ☐ The IQR of the pretest scores is 36.7  \n",
    "4. ☐ The standard deviation of the pretest scores is 16.7  \n",
    "5. ☐ None of the above"
   ]
  },
  {
   "cell_type": "markdown",
   "metadata": {},
   "source": [
    "The IQR of a sample is \\( q_{0.75} - q_{0.25} \\), which in this case is 36.7 when rounded."
   ]
  },
  {
   "cell_type": "markdown",
   "metadata": {},
   "source": [
    "### Question IX.2 (22)\n",
    "\n",
    "We wish to compare the students' pretest and posttest performances by using the mean change in test scores (posttest minus pretest) as a target."
   ]
  },
  {
   "cell_type": "markdown",
   "metadata": {},
   "source": [
    "Which of the following code snippets correctly computes a 95% confidence interval for this quantity using non-parametric bootstrapping?\n"
   ]
  },
  {
   "cell_type": "markdown",
   "metadata": {},
   "source": [
    "1"
   ]
  },
  {
   "cell_type": "code",
   "execution_count": null,
   "metadata": {},
   "outputs": [],
   "source": [
    "import numpy as np\n",
    "\n",
    "# Simulating mean differences between two samples\n",
    "sim_mean_diff = [\n",
    "    np.mean(np.random.choice(posttest, 20, replace=True)) -\n",
    "    np.mean(np.random.choice(pretest, 20, replace=True))\n",
    "    for _ in range(1000)\n",
    "]\n",
    "\n",
    "# Calculating the 2.5th and 97.5th percentiles\n",
    "quantiles = np.percentile(sim_mean_diff, [2.5, 97.5])\n",
    "print(\"95% CI for simulated mean differences:\", quantiles)"
   ]
  },
  {
   "cell_type": "markdown",
   "metadata": {},
   "source": [
    "*2"
   ]
  },
  {
   "cell_type": "code",
   "execution_count": null,
   "metadata": {},
   "outputs": [],
   "source": [
    "# Simulating mean differences of paired differences\n",
    "sim_mean_diff = [\n",
    "    np.mean(np.random.choice(posttest - pretest, 20, replace=True))\n",
    "    for _ in range(1000)\n",
    "]\n",
    "\n",
    "# Calculating the 2.5th and 97.5th percentiles\n",
    "quantiles = np.percentile(sim_mean_diff, [2.5, 97.5])\n",
    "print(\"95% CI for paired simulated mean differences:\", quantiles)"
   ]
  },
  {
   "cell_type": "markdown",
   "metadata": {},
   "source": [
    "3"
   ]
  },
  {
   "cell_type": "code",
   "execution_count": null,
   "metadata": {},
   "outputs": [],
   "source": [
    "import scipy.stats as stats\n",
    "\n",
    "# Two-sample t-test (unpaired)\n",
    "t_stat, p_val = stats.ttest_ind(posttest, pretest, equal_var=False)\n",
    "print(\"Unpaired t-test:\", t_stat, p_val)\n",
    "# Note: Confidence intervals for t-tests with SciPy require additional calculations."
   ]
  },
  {
   "cell_type": "markdown",
   "metadata": {},
   "source": [
    "4"
   ]
  },
  {
   "cell_type": "code",
   "execution_count": null,
   "metadata": {},
   "outputs": [],
   "source": [
    "# Paired t-test\n",
    "t_stat, p_val = stats.ttest_rel(posttest, pretest)\n",
    "print(\"Paired t-test:\", t_stat, p_val)\n",
    "# Note: SciPy does not provide confidence intervals directly for t-tests."
   ]
  },
  {
   "cell_type": "markdown",
   "metadata": {},
   "source": [
    "5"
   ]
  },
  {
   "cell_type": "code",
   "execution_count": null,
   "metadata": {},
   "outputs": [],
   "source": [
    "# Paired t-test with a modified confidence level (e.g., 97.5%)\n",
    "# Use statsmodels to compute confidence intervals\n",
    "import statsmodels.stats.api as sm\n",
    "\n",
    "paired_diff = posttest - pretest\n",
    "conf_int = sm.DescrStatsW(paired_diff).tconfint_mean(alpha=0.025)\n",
    "print(\"95% CI for paired differences:\", conf_int)"
   ]
  },
  {
   "cell_type": "markdown",
   "metadata": {},
   "source": [
    "Snippets 3–5 use a t-test and hence do not use non-parametric bootstrap. The setup in this experiment is two samples, paired, which the second snippet does (the first snippet is an unpaired two-sample)."
   ]
  },
  {
   "cell_type": "markdown",
   "metadata": {},
   "source": [
    "### Question IX.3 (23)\n",
    "As a result of the previous question, the researchers got the confidence interval [7.9, 17.2]\n",
    "\n",
    "Which of the following statements can be concluded?"
   ]
  },
  {
   "cell_type": "markdown",
   "metadata": {},
   "source": [
    "*1. ☐ The mean posttest result is significantly higher than the mean pretest result on a 5% significance level  \n",
    "\n",
    "2. ☐ The mean pretest result is significantly higher than the mean posttest result on a 5% significance level  \n",
    "\n",
    "3. ☐ There is not a significant difference between the mean pretest and posttest results on a 5% significance level  \n",
    "\n",
    "4. ☐ There is a linear relationship between pretest and posttest results  \n",
    "\n",
    "5. ☐ None of the above  "
   ]
  },
  {
   "attachments": {
    "image.png": {
     "image/png": "[encoded data removed]"
    }
   },
   "cell_type": "markdown",
   "metadata": {},
   "source": [
    "### Exercise X\n",
    "A hospital took blood samples from 469 randomly selected people of different age and screened the samples for a specfic chemical. The results of the screenings are given in Table 1 below:\n",
    "![image.png](attachment:image.png)\n",
    "\n",
    "The data used to construct table 1 can be read into python using:"
   ]
  },
  {
   "cell_type": "code",
   "execution_count": 10,
   "metadata": {},
   "outputs": [
    {
     "name": "stdout",
     "output_type": "stream",
     "text": [
      "Table 1 with totals:\n",
      "[[ 17  28  21  15  81]\n",
      " [ 73 138 105  72 388]]\n"
     ]
    }
   ],
   "source": [
    "import numpy as np\n",
    "\n",
    "# Define the data\n",
    "data = [\n",
    "    [17, 28, 21, 15],\n",
    "    [73, 138, 105, 72]\n",
    "]\n",
    "\n",
    "# Add a \"Total\" column to each row\n",
    "data_with_totals = [row + [sum(row)] for row in data]\n",
    "\n",
    "# Convert to a 2D NumPy array\n",
    "table1 = np.array(data_with_totals)\n",
    "\n",
    "# Display the matrix\n",
    "print(\"Table 1 with totals:\")\n",
    "print(table1)\n"
   ]
  },
  {
   "cell_type": "markdown",
   "metadata": {},
   "source": [
    "### Question X.1 (24)\n",
    "Under the null hypothesis that the probablility of a sample having traces of the chemical is the same across the diferent age grous, what is the expected number of samples without traces of the chemical taken from people in age group 3?"
   ]
  },
  {
   "cell_type": "markdown",
   "metadata": {},
   "source": [
    "1. ☐ 20.25  \n",
    "*2. ☐ 21.76  \n",
    "3. ☐ 26.30  \n",
    "4. ☐ 28.67  \n",
    "5. ☐ 104.24"
   ]
  },
  {
   "attachments": {
    "image-2.png": {
     "image/png": "[encoded data removed]"
    },
    "image.png": {
     "image/png": "[encoded data removed]"
    }
   },
   "cell_type": "markdown",
   "metadata": {},
   "source": [
    "The estimate of the common proportion of samples having traces of the chemical is found using (7-42) as:\n",
    "![image.png](attachment:image.png)\n",
    "\n",
    "which implies that the expected number of samples without traces of the chemical is:\n",
    "![image-2.png](attachment:image-2.png)\n",
    "\n",
    "cf. (7-43). Answers 2 is therefore correct."
   ]
  },
  {
   "cell_type": "markdown",
   "metadata": {},
   "source": [
    "### Question X.2 (25)\n",
    "which of the following is the correct conclusion when testing the null hypothesis that the porbability of a sample having traces of the chemical is the same across the different age groups at a 5% significance level (both the argument and the conclusion must be correct)?"
   ]
  },
  {
   "cell_type": "markdown",
   "metadata": {},
   "source": [
    "☐ The \n",
    "𝑝-value is 0.025 and the null hypothesis is therefore rejected\n",
    "\n",
    "☐ The \n",
    "𝑝-value is 0.025 and the null hypothesis is therefore accepted\n",
    "\n",
    "☐ The \n",
    "𝑝\n",
    "p-value is 0.975 and the null hypothesis is therefore rejected\n",
    "\n",
    "#☐ The \n",
    "𝑝-value is 0.975 and the null hypothesis is therefore accepted\n",
    "\n",
    "☐ The \n",
    "𝑝-value is 0.975 and the test is therefore inconclusive"
   ]
  },
  {
   "cell_type": "markdown",
   "metadata": {},
   "source": [
    "Method 7.22 applies, which can be done in Python as:"
   ]
  },
  {
   "cell_type": "code",
   "execution_count": 12,
   "metadata": {},
   "outputs": [
    {
     "name": "stdout",
     "output_type": "stream",
     "text": [
      "Pearson's Chi-squared test\n",
      "Data: table1\n",
      "X-squared = 0.21606, df = 3, p-value = 0.975\n"
     ]
    }
   ],
   "source": [
    "import numpy as np\n",
    "from scipy.stats import chi2_contingency\n",
    "\n",
    "# Create the matrix\n",
    "table1 = np.array([\n",
    "    [17, 28, 21, 15],\n",
    "    [73, 138, 105, 72]\n",
    "])\n",
    "\n",
    "# Perform the Chi-squared test\n",
    "chi2, p, dof, expected = chi2_contingency(table1, correction=False)\n",
    "\n",
    "# Display the results\n",
    "print(\"Pearson's Chi-squared test\")\n",
    "print(f\"Data: table1\")\n",
    "print(f\"X-squared = {chi2:.5f}, df = {dof}, p-value = {p:.3f}\")\n"
   ]
  },
  {
   "cell_type": "markdown",
   "metadata": {},
   "source": [
    "Since the p-value is much larger than the chosen significance level, the null hypothesis is accepted. Hence, answer 4 is correct"
   ]
  },
  {
   "cell_type": "markdown",
   "metadata": {},
   "source": [
    "### Exercise XII\n",
    "The following times were recorded by the quarter-mile runners and mile runners of a university track team (times are in minutes). The observations are read into python by:"
   ]
  },
  {
   "cell_type": "code",
   "execution_count": 11,
   "metadata": {},
   "outputs": [
    {
     "name": "stdout",
     "output_type": "stream",
     "text": [
      "Quarter-mile times: [0.92, 0.98, 1.04, 0.9, 0.99]\n",
      "Mile times: [4.52, 4.35, 4.6, 4.7, 4.5]\n"
     ]
    }
   ],
   "source": [
    "# Define the data in Python\n",
    "quarter_mile_times = [0.92, 0.98, 1.04, 0.90, 0.99]\n",
    "mile_times = [4.52, 4.35, 4.60, 4.70, 4.50]\n",
    "\n",
    "# Display the data\n",
    "print(\"Quarter-mile times:\", quarter_mile_times)\n",
    "print(\"Mile times:\", mile_times)\n"
   ]
  },
  {
   "cell_type": "markdown",
   "metadata": {},
   "source": [
    "After viewing this sample of running times, one of the coaches commented that the quarter-mile runners turned in more consistent times."
   ]
  },
  {
   "cell_type": "markdown",
   "metadata": {},
   "source": [
    "### Question XII.1 (28)"
   ]
  },
  {
   "cell_type": "markdown",
   "metadata": {},
   "source": [
    "Calculate the standard deviation (s) and coefficient of variation (CV) to summarize the variability in the data.\n",
    "\n",
    "1. ☐ Quarter-mile runners: \\( s = 0.0564, \\, CV = 0.0584 \\)  \n",
    "   Mile runners: \\( s = 0.1295, \\, CV = 0.0286 \\)\n",
    "\n",
    "2. ☐ Quarter-mile runners: \\( s = 0.1295, \\, CV = 0.0286 \\)  \n",
    "   Mile runners: \\( s = 0.0564, \\, CV = 0.0584 \\)\n",
    "\n",
    "3. ☐ Quarter-mile runners: \\( s = 0.0413, \\, CV = 0.0584 \\)  \n",
    "   Mile runners: \\( s = 0.1295, \\, CV = 0.0286 \\)\n",
    "\n",
    "4. ☐ Quarter-mile runners: \\( s = 0.0564, \\, CV = 0.0564 \\)  \n",
    "   Mile runners: \\( s = 0.1295, \\, CV = 0.0564 \\)\n",
    "\n",
    "5. ☐ Quarter-mile runners: \\( s = 0.0564, \\, CV = 0.0413 \\)  \n",
    "   Mile runners: \\( s = 0.0584, \\, CV = 0.0564 \\)"
   ]
  },
  {
   "cell_type": "markdown",
   "metadata": {},
   "source": [
    "See Definition 1.12 Coefficient of variation, Chapter 1, Page 14"
   ]
  },
  {
   "cell_type": "code",
   "execution_count": 13,
   "metadata": {},
   "outputs": [
    {
     "name": "stdout",
     "output_type": "stream",
     "text": [
      "Quarter-mile runners (s, CV): 0.0564 0.0584\n",
      "Mile runners (s, CV): 0.1295 0.0286\n"
     ]
    }
   ],
   "source": [
    "import numpy as np\n",
    "\n",
    "# Define the data\n",
    "qmile = np.array([0.92, 0.98, 1.04, 0.90, 0.99])\n",
    "mile = np.array([4.52, 4.35, 4.60, 4.70, 4.50])\n",
    "\n",
    "# Calculate standard deviation and coefficient of variation (CV)\n",
    "qmile_sd = np.std(qmile, ddof=1)  # Use ddof=1 for sample standard deviation\n",
    "qmile_cv = qmile_sd / np.mean(qmile)\n",
    "\n",
    "mile_sd = np.std(mile, ddof=1)\n",
    "mile_cv = mile_sd / np.mean(mile)\n",
    "\n",
    "# Round the results to 4 decimal places\n",
    "print(\"Quarter-mile runners (s, CV):\", round(qmile_sd, 4), round(qmile_cv, 4))\n",
    "print(\"Mile runners (s, CV):\", round(mile_sd, 4), round(mile_cv, 4))"
   ]
  },
  {
   "cell_type": "markdown",
   "metadata": {},
   "source": [
    "### Exercise XIII\n",
    "A sample of 12 of the top-rated hotels in the United States has the following number of rooms and cost per night for a double room (as read in python):"
   ]
  },
  {
   "cell_type": "code",
   "execution_count": 14,
   "metadata": {},
   "outputs": [
    {
     "name": "stdout",
     "output_type": "stream",
     "text": [
      "Rooms: [220 727 285 273 145 213 398 343 250 414 400 700]\n",
      "Cost: [499 340 585 495 495 279 279 455 595 367 675 420]\n"
     ]
    }
   ],
   "source": [
    "import numpy as np\n",
    "\n",
    "# Define the data\n",
    "rooms = np.array([220, 727, 285, 273, 145, 213, 398, 343, 250, 414, 400, 700])\n",
    "cost = np.array([499, 340, 585, 495, 495, 279, 279, 455, 595, 367, 675, 420])\n",
    "\n",
    "# Display the data\n",
    "print(\"Rooms:\", rooms)\n",
    "print(\"Cost:\", cost)"
   ]
  },
  {
   "cell_type": "markdown",
   "metadata": {},
   "source": [
    "### Question XIII.1 (29)"
   ]
  },
  {
   "cell_type": "markdown",
   "metadata": {},
   "source": [
    "**What is the sample correlation coefficient \\( r \\)? What does it tell you about the relationship between the number of rooms and the cost per night for a double room?**\n",
    "\n",
    "1. ☐ \\( r = -0.293 \\), a slight negative correlation. Higher cost per night tends to be associated with larger hotels.  \n",
    "\n",
    "2. ☐ \\( r = -0.493 \\), a moderately negative correlation. Lower cost per night tends to be associated with larger hotels.  \n",
    "\n",
    "3. ☐ \\( r = -0.493 \\), a moderately negative correlation. Higher cost per night tends to be associated with larger hotels.  \n",
    "\n",
    "4. ☐ \\( r = 0.791 \\), a strong positive correlation. Higher cost per night tends to be associated with the larger hotels.  \n",
    "\n",
    "*5. ☐ \\( r = -0.293 \\), a slight negative correlation. Lower cost per night tends to be associated with larger hotels."
   ]
  },
  {
   "cell_type": "code",
   "execution_count": 15,
   "metadata": {},
   "outputs": [
    {
     "name": "stdout",
     "output_type": "stream",
     "text": [
      "Correlation coefficient (rounded): -0.293\n"
     ]
    }
   ],
   "source": [
    "import numpy as np\n",
    "\n",
    "# Define the data\n",
    "rooms = np.array([220, 727, 285, 273, 145, 213, 398, 343, 250, 414, 400, 700])\n",
    "cost = np.array([499, 340, 585, 495, 495, 279, 279, 455, 595, 367, 675, 420])\n",
    "\n",
    "# Calculate the correlation coefficient\n",
    "correlation = np.corrcoef(rooms, cost)[0, 1]\n",
    "\n",
    "# Round to 3 decimal places and display\n",
    "print(\"Correlation coefficient (rounded):\", round(correlation, 3))\n"
   ]
  },
  {
   "cell_type": "markdown",
   "metadata": {},
   "source": [
    "### Exercise XIV\n",
    "A sample was collected, and its summary statistics were calculated. The sample is:\n",
    "\n",
    "**3, 6, 7, 0, 6, 13, 3, 7, 9, 15**\n",
    "\n",
    "The summary statistics are (rounded to two decimals):\n",
    "\n",
    "| Statistic       | Value |\n",
    "|------------------|-------|\n",
    "| $ \\bar{x} $  | 6.9   |\n",
    "| $ s $        | 4.56  |\n",
    "| $ s^2 $      | 20.77 |\n",
    "| Minimum         | 0     |\n",
    "| $ Q_1 $      | 3.75  |\n",
    "| Median          | 6.5   |\n",
    "| $ Q_3 $      | 8.5   |\n",
    "| Maximum         | 15    |\n",
    "| $ n $        | 10    |\n",
    "\n",
    "---\n",
    "\n",
    "**Question XIV.1 (30):**  \n",
    "However, we suspect that there is an error in one of the summary statistics. Which one?\n",
    "\n",
    "1 □ $\\bar{x}$ <br>\n",
    "2 □ $ s^2 $ <br>\n",
    "3 □ Median  <br>\n",
    "4 □ $ Q_1 $ <br>\n",
    "5* □ There are no errors in the summary statistics.\n",
    "\n",
    "**Facit**"
   ]
  },
  {
   "cell_type": "code",
   "execution_count": 16,
   "metadata": {},
   "outputs": [
    {
     "ename": "NameError",
     "evalue": "name 'mean_x' is not defined",
     "output_type": "error",
     "traceback": [
      "\u001b[1;31m---------------------------------------------------------------------------\u001b[0m",
      "\u001b[1;31mNameError\u001b[0m                                 Traceback (most recent call last)",
      "Cell \u001b[1;32mIn[16], line 14\u001b[0m\n\u001b[0;32m     11\u001b[0m summary_x \u001b[38;5;241m=\u001b[39m pd\u001b[38;5;241m.\u001b[39mSeries(x)\u001b[38;5;241m.\u001b[39mdescribe()\n\u001b[0;32m     13\u001b[0m \u001b[38;5;66;03m# Print results\u001b[39;00m\n\u001b[1;32m---> 14\u001b[0m \u001b[38;5;28mprint\u001b[39m(\u001b[38;5;124m\"\u001b[39m\u001b[38;5;124mMean:\u001b[39m\u001b[38;5;124m\"\u001b[39m, \u001b[43mmean_x\u001b[49m)\n\u001b[0;32m     15\u001b[0m \u001b[38;5;66;03m#print(\"Standard Deviation:\", std_dev_x)\u001b[39;00m\n\u001b[0;32m     16\u001b[0m \u001b[38;5;28mprint\u001b[39m(\u001b[38;5;124m\"\u001b[39m\u001b[38;5;124mVariance:\u001b[39m\u001b[38;5;124m\"\u001b[39m, variance_x)\n",
      "\u001b[1;31mNameError\u001b[0m: name 'mean_x' is not defined"
     ]
    }
   ],
   "source": [
    "import numpy as np\n",
    "import pandas as pd\n",
    "\n",
    "# Data\n",
    "x = [3, 6, 7, 0, 6, 13, 3, 7, 9, 15]\n",
    "\n",
    "# Summary statistics\n",
    "# mean_x = np.mean(x)\n",
    "#std_dev_x = np.std(x, ddof=1)  # Sample standard deviation\n",
    "variance_x = np.var(x, ddof=1)  # Sample variance\n",
    "summary_x = pd.Series(x).describe()\n",
    "\n",
    "# Print results\n",
    "print(\"Mean:\", mean_x)\n",
    "#print(\"Standard Deviation:\", std_dev_x)\n",
    "print(\"Variance:\", variance_x)\n",
    "print(\"Summary:\\n\", summary_x)"
   ]
  }
 ],
 "metadata": {
  "kernelspec": {
   "display_name": "base",
   "language": "python",
   "name": "python3"
  },
  "language_info": {
   "codemirror_mode": {
    "name": "ipython",
    "version": 3
   },
   "file_extension": ".py",
   "mimetype": "text/x-python",
   "name": "python",
   "nbconvert_exporter": "python",
   "pygments_lexer": "ipython3",
   "version": "3.11.10"
  }
 },
 "nbformat": 4,
 "nbformat_minor": 2
}
