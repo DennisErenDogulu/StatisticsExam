{
 "cells": [
  {
   "cell_type": "code",
   "execution_count": 1,
   "metadata": {},
   "outputs": [],
   "source": [
    "import numpy as np\n",
    "import pandas as pd\n",
    "import scipy.stats as stats\n",
    "import matplotlib.pyplot as plt\n",
    "import statsmodels.api as sm\n",
    "import statsmodels.stats.proportion as smprop\n",
    "import math"
   ]
  },
  {
   "cell_type": "markdown",
   "metadata": {},
   "source": [
    "### Exercise 2.1"
   ]
  },
  {
   "cell_type": "code",
   "execution_count": 4,
   "metadata": {},
   "outputs": [
    {
     "name": "stdout",
     "output_type": "stream",
     "text": [
      "0.11147673600000013\n"
     ]
    }
   ],
   "source": [
    "#a\n",
    "print(stats.binom.pmf(4, 10, 0.6))\n",
    "\n",
    "#This calculation is done by using the binomial distribution function and the probability mass function (since it is discrete values)\n",
    "\n",
    "#The binomial function gives the number of successes in a set of trials (repetitions) with either a success or a failure outcomme. Is the framework for the calculation\n",
    "#The probability mass function gives the probability of a specific value occuring in a discrete random variable. It calculates the specific function that calculates the probability of a number of successes\n",
    "\n",
    "#In this case, n = 10, so the number of repetition is 10, and 0,6 is 60%, so there is a 60% chance of success in each trial \n",
    "\n",
    "#4 is the amount of successes we want\n",
    "\n",
    "#We are calculating the probability of getting 4 successes for 10 trials when there is a 60% chance of getting success in each trial \n",
    "\n",
    "#Since the result is 0,115 , it means that there is an 11,5% chance of getting 4 successes out of 10 trials \n",
    "\n",
    "#The distribution applied is the binomial distribution function and the probability mass function"
   ]
  },
  {
   "cell_type": "code",
   "execution_count": 5,
   "metadata": {},
   "outputs": [
    {
     "name": "stdout",
     "output_type": "stream",
     "text": [
      "0.16623861760000005\n",
      "0.3668967424000001\n"
     ]
    }
   ],
   "source": [
    "#b \n",
    "\n",
    "print(stats.binom.cdf(4,10,0.6))\n",
    "\n",
    "# Since we are using cdf and not pmf, we are calculating the probability of getting up to and including 4 succeses for 10 repetitions and with a 60% chance of success for each trial\n",
    "\n",
    "\n",
    "print(stats.binom.cdf(5,10,0.6))\n",
    "\n",
    "#Calculate the following probabilities: P(X ≤ 5), P(X < 5), P(X > 4) and P(X = 5).\n",
    "\n",
    "#probability of P(X ≤ 5) \n",
    "#print(stats.binom.cdf(5,10,0.6)) - because it is the less than or equal sign we know to use cdf\n",
    "#The probability is 36,7% of getting less than or 5 succsses\n",
    "\n",
    "#probability of P(X < 5)\n",
    "#print(stats.binom.cdf(4,10,0.6)) - because it is less than sign we know to use cdf \n",
    "#There is a 16,6% chance of getting less than 5 succeses\n",
    "\n",
    "#probability of P(X = 5)\n",
    "# print(stats.binom.cdf(5,10,0.6)) - print(stats.binom.cdf(4,10,0.6)) or P(X ≤ 5) - P(X < 5)  - since it is equal sign we use pmf - because it calculates the specific probability of success \n"
   ]
  },
  {
   "cell_type": "code",
   "execution_count": 6,
   "metadata": {},
   "outputs": [
    {
     "name": "stdout",
     "output_type": "stream",
     "text": [
      "0.16803135574154085\n"
     ]
    }
   ],
   "source": [
    "#c\n",
    "\n",
    "print(stats.poisson.pmf(k=4,mu=3))\n",
    "\n",
    "#mu = mean /lamda which is the average amount of occurences of an event in a interval\n",
    "\n",
    "# 4 is the specific value (it is the number of occurences that we want - the probability of exactly 4 events occuring)\n",
    "\n",
    "#We want to find out what the probability of 4 events occuring is when there is an average of 3 events occuring \n",
    "\n",
    "#Because we use the pmf it means that there is a 16,80% probability of exactly 4 events occuring when there is an average of 3 events occuring in each interval - this is what the 0,168 means\n",
    "\n",
    "#The distribution is the poisson distribution function\n",
    "\n"
   ]
  },
  {
   "cell_type": "code",
   "execution_count": 66,
   "metadata": {},
   "outputs": [
    {
     "name": "stdout",
     "output_type": "stream",
     "text": [
      "0.8152632445237722\n",
      "0.9160820579686965\n",
      "0.10081881344492427\n"
     ]
    }
   ],
   "source": [
    "#d\n",
    "\n",
    "print(stats.poisson.cdf(4,3))\n",
    "\n",
    "print(stats.poisson.cdf(5,3))\n",
    "\n",
    "#Calculate the following probabilities: P(X ≤ 5), P(X < 5), P(X > 4) and P(X = 5).\n",
    "\n",
    "#because we are using cdf and not pmf we are calculating the probability of up to and including 4 and 5 events occuring\n",
    "\n",
    "#probability of P(X ≤ 5) \n",
    "#print(stats.poisson.cdf(5,3)) - so the probability is 91,6% \n",
    "\n",
    "#probability of P(X < 5)\n",
    "#print(stats.poisson.cdf(4,3)) - the probability of less than 5 events occuring is 81,5% \n",
    "\n",
    "#probability of P(X = 5)\n",
    "##print(stats.poisson.cdf(5,3)) - print(stats.poisson.cdf(4,3)) or P(X ≤ 5) - P(X < 5) \n",
    "print(0.9160820579686965 - 0.8152632445237722)\n",
    "# The probability is 0,1 / 10%\n",
    "\n",
    "#probability of P(X > 4)  \n",
    "#Since we know that there is a probability of 81,5% of less than 5 events occuring - which means it calculates the probability of 0, 1, 2, 3, 4 successes occuring \n",
    "#We can therefore say that 81,5% - 100% = 18,5% chance\n",
    "#It is also the same as P(≤4) - 1 = 1-0,815 = 0,185 \n",
    "\n"
   ]
  },
  {
   "cell_type": "markdown",
   "metadata": {},
   "source": [
    "### Exercise 2.4"
   ]
  },
  {
   "cell_type": "code",
   "execution_count": 67,
   "metadata": {},
   "outputs": [
    {
     "name": "stdout",
     "output_type": "stream",
     "text": [
      "0.3192982456140351\n",
      "0.8999999999999999\n",
      "0.5636842105263158\n"
     ]
    }
   ],
   "source": [
    "#a\n",
    "\n",
    "#20 different groceries \n",
    "#Only shelf price on 6 of the 20 products \n",
    "#Customer buys 3 products and we want pricetags on all of them \n",
    "\n",
    "print(stats.hypergeom.pmf(k=0, M=20, n=6, N=3))\n",
    "\n",
    "#The probability that no discrepancies for the customer is 31,92%\n",
    "\n",
    "#calculate the mean\n",
    "mean = 6*(3/20)\n",
    "print(mean)\n",
    "\n",
    "#the variance of X, (σX2)\n",
    "variance = (6*3*(20-3)*(20-6))/(pow(20, 2)*(20-1))\n",
    "print(variance)"
   ]
  },
  {
   "cell_type": "markdown",
   "metadata": {},
   "source": [
    "### Exercise 2.5 "
   ]
  },
  {
   "cell_type": "code",
   "execution_count": 41,
   "metadata": {},
   "outputs": [
    {
     "name": "stdout",
     "output_type": "stream",
     "text": [
      "0.30000000000000004\n",
      "0.24157894736842106\n",
      "0.28421052631578947\n"
     ]
    }
   ],
   "source": [
    "# a) The mean of X, (μX), the variance of X, (σX2 ) and P(X ≥ 1) are?\n",
    "\n",
    "#20 bales of hay in total \n",
    "#3 bales of hay are selected and checked if they contain dangerous fungus \n",
    "#it is believed that 2 of the bayles of hay out of the 20 are infected\n",
    "#A random variable X describes the number of infected bales of hay among the three selected.\n",
    "\n",
    "#First the mean of X is calculated but since we dont know it is the expected mean (μX)\n",
    "#We are using the hypergeometric function since we want to know the number of successes out of 3 draws\n",
    "\n",
    "#Now that we have found the probability we can calculate the mean\n",
    "mean = 3*(2/20)\n",
    "print(mean)\n",
    "\n",
    "\n",
    "#The mean is 0,3\n",
    "\n",
    "#the variance of X, (σX2)\n",
    "variance = (3*2*(20-2)*(20-3))/(pow(20, 2)*(20-1))\n",
    "print(variance)\n",
    "#The variance is 0,24\n",
    "\n",
    "#P(X ≥ 1)\n",
    "#The probability that at least 1 bayle is infected in the sample of 3\n",
    "#P(X ≥ 1) = 1 - (PX = 0)\n",
    "print(1 - stats.hypergeom.cdf(k=0, M=20, n=2, N=3))\n",
    "\n",
    "#Because we want to know what the probability of getting at least one so the probability up to and including 1 \n",
    "\n"
   ]
  },
  {
   "cell_type": "code",
   "execution_count": 45,
   "metadata": {},
   "outputs": [
    {
     "name": "stdout",
     "output_type": "stream",
     "text": [
      "0.9043820750088045\n",
      "0.3486784401000001\n"
     ]
    }
   ],
   "source": [
    "# b) \n",
    "#No more than 1% of the bayles are infected\n",
    "#Buyer buys 10 bayles\n",
    "\n",
    "#What is the probability that the 10 purchased bales of hay are error-free, if 1% of the bales from a supplier are infected (p1)\n",
    "#using binomial\n",
    "#because we want to know that X = 0, we have P(X=0), so k = 0\n",
    "print(stats.binom.pmf(k=0, n=10, p=0.01))\n",
    "\n",
    "#The probability of having 0 infected haybayles for 10 bayles whíth a probability of 1% is 90,4% \n",
    "\n",
    "#the probability that the 10 purchased bales of hay are error-free, if 10% of the bales from a supplier are infected (p10)?\n",
    "print(stats.binom.pmf(k=0, n=10, p=0.1))\n",
    "#The probability is 34,87%\n",
    "\n"
   ]
  },
  {
   "cell_type": "markdown",
   "metadata": {},
   "source": [
    "### Exercise 2.7"
   ]
  },
  {
   "cell_type": "code",
   "execution_count": 71,
   "metadata": {},
   "outputs": [
    {
     "name": "stdout",
     "output_type": "stream",
     "text": [
      "0.006040291111581331\n",
      "8.0\n",
      "0.5925473414375915\n"
     ]
    }
   ],
   "source": [
    "# the number of items sent to the control unit on average is 1.6 item pr. minute\n",
    "\n",
    "#Let the random variable X denote the number of items pushed to the side band in 1 minute. It is assumed that X follows a Poisson distribution.\n",
    "\n",
    "# a) What is the probability that there will arrive more than 5 items at the con trol unit in a given minute is?\n",
    "#lambda = 1,6\n",
    "#P(X >= 5) which means that P(X <= 4)\n",
    "#The probability of 5 or more events occuring in one minute when the average is 1,6 items pr. minute\n",
    "\n",
    "print(1-stats.poisson.cdf(k=5,mu=1.6))\n",
    "\n",
    "#Since P(X > 5) = 1 − P(X ≤ 5) = 1 − 0.994 = 0.006\n",
    "\n",
    "#The probability of 5 or more units arriving when the average is 1,6 items pr. minute is 0,006 - 0,06%\n",
    "\n",
    "# b) What is the probability that no more than 8 items arrive to the control unit within a 5-minute period?\n",
    "#Calculating a new lambda since it is the average of a five minute period now \n",
    "l = 1.6*5\n",
    "print(l)\n",
    "\n",
    "#P(X <= 8)\n",
    "print(stats.poisson.cdf(k=8,mu=l))\n",
    "#The probability is 59,25%\n",
    "\n",
    "\n"
   ]
  },
  {
   "cell_type": "markdown",
   "metadata": {},
   "source": [
    "### Exercise 2.8 "
   ]
  },
  {
   "cell_type": "code",
   "execution_count": 74,
   "metadata": {},
   "outputs": [
    {
     "name": "stdout",
     "output_type": "stream",
     "text": [
      "3.0\n",
      "15.0\n",
      "0.9170290899685398\n",
      "0.12478121503252493\n",
      "0.12478121503252493\n",
      "25.0\n"
     ]
    }
   ],
   "source": [
    "# 180 phone calls per hour randomly distributed\n",
    "#If there are 20 calls or more in a period of 5 minutes the capacity is exceeded, and there will be an unwanted waiting time, hence there is a capacity of 19 calls per 5 minutes\n",
    "# a) What is the probability that the capacity is exceeded in a random period of 5 minutes?\n",
    "\n",
    "#Since we are dealing witn an interval we want to use the poisson distribution\n",
    "#There are 180 phone calls per hour - 1 hour = 60 minutes \n",
    "\n",
    "#calculating the average/lambda for 5 minutes \n",
    "l = 180/60\n",
    "print(l)\n",
    "l = l*5\n",
    "print(l)\n",
    "#lamda is that there is an average of 15 calls per. five minutes\n",
    "\n",
    "#P(X >= 20)\n",
    "#First we calculate for the capacity so P(X<=19)\n",
    "print(stats.poisson.cdf(k=20,mu=l))\n",
    "#The probability of 19 or less calls in 5 minutes when there is an avergae of 15 calls is 0,875 / 87,5% \n",
    "\n",
    "#To find the probability of it exceeding P(X >= 20)would be \n",
    "# 1- P(X<=19) / 1 - 0.8752187849674751\n",
    "print(1 - 0.8752187849674751) \n",
    "#1,2378 - so the probability of exceeding the capacity in 5 minutes is 12,48%\n",
    "\n",
    "#Could also be solved by\n",
    "#Since P(X > 19) = 1 − P(X ≤ 19)\n",
    "print(1-stats.poisson.cdf(k=19,mu=l))\n",
    "\n",
    "#b) If the probability should be at least 99% that all calls will be handled with- out waiting time for a randomly selected period of 5 minutes, how large should the capacity per 5 minutes then at least be?\n",
    "# I am using the ppf function here because I want to know what the corresponding cdf value of 99% calls, so I know that calls over 25 will be more than 99% of calls answered with no waiting time\n",
    "print(stats.poisson.ppf(0.99, mu = l))\n",
    "#The capacity should be minimum 25 calls per. 5 minutes for 99% of all calls to be answered withour waiting time\n"
   ]
  }
 ],
 "metadata": {
  "kernelspec": {
   "display_name": "base",
   "language": "python",
   "name": "python3"
  },
  "language_info": {
   "codemirror_mode": {
    "name": "ipython",
    "version": 3
   },
   "file_extension": ".py",
   "mimetype": "text/x-python",
   "name": "python",
   "nbconvert_exporter": "python",
   "pygments_lexer": "ipython3",
   "version": "3.11.10"
  }
 },
 "nbformat": 4,
 "nbformat_minor": 2
}
