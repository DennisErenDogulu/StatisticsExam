{
 "cells": [
  {
   "cell_type": "markdown",
   "metadata": {},
   "source": [
    "### Test exam for stat"
   ]
  },
  {
   "cell_type": "code",
   "execution_count": 72,
   "metadata": {},
   "outputs": [],
   "source": [
    "# Import all needed python packages\n",
    "import numpy as np\n",
    "import matplotlib.pyplot as plt\n",
    "import pandas as pd\n",
    "import scipy.stats as stats\n",
    "import statsmodels.formula.api as smf\n",
    "import statsmodels.api as sm\n",
    "import statsmodels.stats.proportion as smprop\n",
    "from scipy.stats import poisson\n",
    "import math"
   ]
  },
  {
   "cell_type": "markdown",
   "metadata": {},
   "source": [
    "### question 1"
   ]
  },
  {
   "cell_type": "markdown",
   "metadata": {
    "vscode": {
     "languageId": "plaintext"
    }
   },
   "source": [
    "Method 3.23 "
   ]
  },
  {
   "cell_type": "code",
   "execution_count": null,
   "metadata": {},
   "outputs": [
    {
     "name": "stdout",
     "output_type": "stream",
     "text": [
      "t_obs = -1.539600717839002\n",
      "t_025 = -2.011740513729766\n",
      "t_075 = 2.0117405137297655\n"
     ]
    }
   ],
   "source": [
    "n = 48\n",
    "mu_0 = 18\n",
    "x_hat = 17\n",
    "s = 4.5\n",
    "\n",
    "t_obs = (x_hat - mu_0) / (s / np.sqrt(n))\n",
    "print(f\"t_obs = {t_obs}\")\n",
    "\n",
    "t_025 = stats.t.ppf(0.025, df=n-1)\n",
    "print(f\"t_025 = {t_025}\")\n",
    "t_975 = stats.t.ppf(0.975, df=n-1)\n",
    "print(f\"t_075 = {t_075}\")\n",
    "\n",
    "\n"
   ]
  },
  {
   "cell_type": "markdown",
   "metadata": {},
   "source": [
    "### Question 2"
   ]
  },
  {
   "cell_type": "code",
   "execution_count": 10,
   "metadata": {},
   "outputs": [
    {
     "name": "stdout",
     "output_type": "stream",
     "text": [
      "p-value: 0.08885012244793078\n"
     ]
    }
   ],
   "source": [
    "pvalue = 2 * (1 - stats.t.cdf(abs(-1.74), df=45-1))\n",
    "print(f\"p-value: {pvalue}\")"
   ]
  },
  {
   "cell_type": "markdown",
   "metadata": {},
   "source": [
    "### Question 3"
   ]
  },
  {
   "cell_type": "code",
   "execution_count": 18,
   "metadata": {},
   "outputs": [
    {
     "name": "stdout",
     "output_type": "stream",
     "text": [
      "95% Confidence Interval for Variance: [0.00513753842067435, 0.014638184739203823]\n",
      "\n",
      "95% Confidence Interval for Standard Deviation: [0.07167662 0.12098837]\n"
     ]
    }
   ],
   "source": [
    "alpha = 0.05\n",
    "n = 30\n",
    "std_dev = 0.09\n",
    "sample_variance = std_dev ** 2\n",
    "\n",
    "# Confidence interval for variance\n",
    "var_conf = [\n",
    "    (n - 1) * sample_variance / stats.chi2.ppf(1 - alpha / 2, df=n - 1),\n",
    "    (n - 1) * sample_variance / stats.chi2.ppf(alpha / 2, df=n - 1)\n",
    "]\n",
    "print(f\"95% Confidence Interval for Variance: {var_conf}\\n\")\n",
    "\n",
    "# Confidence interval for standard deviation\n",
    "std_conf = np.sqrt(var_conf)\n",
    "print(f\"95% Confidence Interval for Standard Deviation: {std_conf}\")"
   ]
  },
  {
   "cell_type": "markdown",
   "metadata": {},
   "source": [
    "### Question 4"
   ]
  },
  {
   "cell_type": "code",
   "execution_count": null,
   "metadata": {},
   "outputs": [],
   "source": [
    "# solution (4)\n",
    "\n",
    "# What is the probability P(X < 3)\n",
    "\n",
    "# f(x) is discrete\n",
    "# to calc F(X=2) = P(X <= 2) we sum the f(x) for x = 0,1,2\n",
    "\n",
    "print(.17 + .22 + .28)"
   ]
  },
  {
   "cell_type": "markdown",
   "metadata": {},
   "source": [
    "### Question 5"
   ]
  },
  {
   "cell_type": "code",
   "execution_count": 20,
   "metadata": {},
   "outputs": [
    {
     "name": "stdout",
     "output_type": "stream",
     "text": [
      "2.1\n",
      "2.21\n"
     ]
    }
   ],
   "source": [
    "# solution (5)\n",
    "\n",
    "# The mean of X is 2.10. What is the variance of X?\n",
    "\n",
    "x = np.array([0,1,2,3,4])\n",
    "fx = np.array([.17, .22, .28, .0, .33])\n",
    "\n",
    "# for sanity check calc mean:\n",
    "print(np.sum(x*fx))\n",
    "\n",
    "# now calc var:\n",
    "print(np.sum((x-2.10)**2 *fx))"
   ]
  },
  {
   "cell_type": "markdown",
   "metadata": {},
   "source": [
    "### Question 6"
   ]
  },
  {
   "cell_type": "code",
   "execution_count": 21,
   "metadata": {},
   "outputs": [
    {
     "name": "stdout",
     "output_type": "stream",
     "text": [
      "-2.5\n"
     ]
    }
   ],
   "source": [
    "# solution (6)\n",
    "\n",
    "print(250-252.5)"
   ]
  },
  {
   "cell_type": "markdown",
   "metadata": {},
   "source": [
    "### Question 7"
   ]
  },
  {
   "cell_type": "code",
   "execution_count": null,
   "metadata": {},
   "outputs": [],
   "source": []
  },
  {
   "cell_type": "markdown",
   "metadata": {},
   "source": [
    "### Question 8 and 9\n"
   ]
  },
  {
   "cell_type": "code",
   "execution_count": 44,
   "metadata": {},
   "outputs": [
    {
     "name": "stdout",
     "output_type": "stream",
     "text": [
      "Estimate for the slope (beta1): 467.5821428571428\n",
      "                            OLS Regression Results                            \n",
      "==============================================================================\n",
      "Dep. Variable:                      y   R-squared:                       0.984\n",
      "Model:                            OLS   Adj. R-squared:                  0.982\n",
      "No. Observations:                  12   F-statistic:                     608.4\n",
      "Covariance Type:            nonrobust   Prob (F-statistic):           2.74e-10\n",
      "==============================================================================\n",
      "                 coef    std err          t      P>|t|      [0.025      0.975]\n",
      "------------------------------------------------------------------------------\n",
      "Intercept    160.7286    125.745      1.278      0.230    -119.449     440.906\n",
      "x            467.5821     18.957     24.666      0.000     425.344     509.821\n",
      "==============================================================================\n",
      "\n",
      "Notes:\n",
      "[1] Standard Errors assume that the covariance matrix of the errors is correctly specified.\n",
      "Intercept    2.300469e-01\n",
      "x            2.739800e-10\n",
      "dtype: float64\n"
     ]
    },
    {
     "name": "stderr",
     "output_type": "stream",
     "text": [
      "c:\\Users\\tobia\\miniconda3\\Lib\\site-packages\\scipy\\stats\\_axis_nan_policy.py:418: UserWarning: `kurtosistest` p-value may be inaccurate with fewer than 20 observations; only n=12 observations were given.\n",
      "  return hypotest_fun_in(*args, **kwds)\n"
     ]
    }
   ],
   "source": [
    "df = pd.DataFrame({'x': [0, 0, 2, 2, 4, 4, 6, 6, 8, 8, 12, 12], 'y': [16, 116, 1170, 841, 2287, 2012, 2653, 3333, 4270, 3999, 5750, 5407]\n",
    "})\n",
    "\n",
    "# Sample size\n",
    "n = len(df['x'])\n",
    "\n",
    "# Step 1: Calculate the means of t and y\n",
    "t_mean = df['x'].mean()\n",
    "y_mean = df['y'].mean()\n",
    "\n",
    "# Step 2: Estimate parameters β₁ (slope) and β₀ (intercept)\n",
    "Sxx = np.sum((df['x'] - t_mean) ** 2)\n",
    "beta1_hat = np.sum((df['y'] - y_mean) * (df['x'] - t_mean)) / Sxx\n",
    "beta0_hat = y_mean - beta1_hat * t_mean\n",
    "\n",
    "# Step 3: Calculate residuals and variance\n",
    "residuals = df['y'] - (beta0_hat + beta1_hat * df['x'])\n",
    "RSS = np.sum(residuals ** 2)\n",
    "sigma2 = RSS / (n - 2)\n",
    "sigma_beta1 = np.sqrt(sigma2 / Sxx)\n",
    "\n",
    "print('Estimate for the slope (beta1):', beta1_hat)\n",
    "\n",
    "fit = smf.ols('y ~ x', data=df).fit()\n",
    "print(fit.summary(slim=True))\n",
    "\n",
    "print(fit.pvalues)\n",
    "\n"
   ]
  },
  {
   "cell_type": "markdown",
   "metadata": {},
   "source": [
    "### Question 10"
   ]
  },
  {
   "cell_type": "code",
   "execution_count": 46,
   "metadata": {},
   "outputs": [
    {
     "name": "stdout",
     "output_type": "stream",
     "text": [
      "          mean    mean_se  mean_ci_lower  mean_ci_upper  obs_ci_lower  \\\n",
      "0  3433.803571  81.168203    3252.949544    3614.657599   2829.041707   \n",
      "\n",
      "   obs_ci_upper  \n",
      "0   4038.565435  \n"
     ]
    }
   ],
   "source": [
    "print(fit.get_prediction(pd.DataFrame({'x':[7]})).summary_frame(alpha=0.05))"
   ]
  },
  {
   "cell_type": "markdown",
   "metadata": {},
   "source": [
    "### Question 11"
   ]
  },
  {
   "cell_type": "code",
   "execution_count": 54,
   "metadata": {},
   "outputs": [
    {
     "data": {
      "text/plain": [
       "array([0.15961596, 0.31097227])"
      ]
     },
     "execution_count": 54,
     "metadata": {},
     "output_type": "execute_result"
    }
   ],
   "source": [
    "#one sample CI\n",
    "\n",
    "x = 20\n",
    "n = 85\n",
    "\n",
    "phat = x/n\n",
    "\n",
    "phat + np.array([-1,1]) * stats.norm.ppf(1-0.1/2) * np.sqrt(phat * (1-phat)/n)"
   ]
  },
  {
   "cell_type": "markdown",
   "metadata": {},
   "source": [
    "### Question 12"
   ]
  },
  {
   "cell_type": "code",
   "execution_count": 70,
   "metadata": {},
   "outputs": [
    {
     "name": "stdout",
     "output_type": "stream",
     "text": [
      "Required sample size: 277\n"
     ]
    }
   ],
   "source": [
    "# Given values\n",
    "p = 20 / 85  # estimated population proportion\n",
    "z = stats.norm.ppf(1 - 0.05 / 2)  # z-value for 95% confidence level\n",
    "ME = 0.1 / 2 # margin of error\n",
    "\n",
    "# Sample size calculation\n",
    "n = p * (1 - p) * (z / ME) ** 2\n",
    "\n",
    "print(f\"Required sample size: {math.ceil(n)}\")"
   ]
  },
  {
   "cell_type": "markdown",
   "metadata": {},
   "source": [
    "### Question 14"
   ]
  },
  {
   "cell_type": "code",
   "execution_count": null,
   "metadata": {},
   "outputs": [
    {
     "name": "stdout",
     "output_type": "stream",
     "text": [
      "The probability that the store's capacity is not exceeded during a peak hour is: 0.10882\n"
     ]
    }
   ],
   "source": [
    "# Parameters\n",
    "ForestFires = 2.5  # average arrivals per hour\n",
    "Five_Forest_Fires = 4    # maximum capacity\n",
    "\n",
    "# Calculate the probability that the number of arrivals is within the capacity (<= 250)\n",
    "probability_within_capacity = 1 - poisson.cdf(capacity, arrival_rate)\n",
    "\n",
    "# Display the result\n",
    "print(f\"The probability that the store's capacity is not exceeded during a peak hour is: {probability_within_capacity:.5f}\")"
   ]
  },
  {
   "cell_type": "markdown",
   "metadata": {},
   "source": [
    "### Question 15"
   ]
  },
  {
   "cell_type": "code",
   "execution_count": 81,
   "metadata": {},
   "outputs": [
    {
     "name": "stdout",
     "output_type": "stream",
     "text": [
      "17.5\n"
     ]
    }
   ],
   "source": [
    "2.5 * 7\n",
    "print(2.5 * 7)"
   ]
  },
  {
   "cell_type": "markdown",
   "metadata": {},
   "source": [
    "### Question 16"
   ]
  },
  {
   "cell_type": "code",
   "execution_count": 82,
   "metadata": {},
   "outputs": [
    {
     "name": "stdout",
     "output_type": "stream",
     "text": [
      "0.28871743680000006\n"
     ]
    }
   ],
   "source": [
    "print(stats.binom.pmf(k=5, n=5, p=0.78))"
   ]
  },
  {
   "cell_type": "markdown",
   "metadata": {},
   "source": [
    "### Question 17"
   ]
  },
  {
   "cell_type": "code",
   "execution_count": 83,
   "metadata": {},
   "outputs": [
    {
     "name": "stdout",
     "output_type": "stream",
     "text": [
      "[4.14695258 4.10146578 4.07560336 ... 4.15016382 4.08309909 4.17899033]\n",
      "[3.76310071 4.3147543 ]\n",
      "[3.76310071 4.3147543 ]\n"
     ]
    }
   ],
   "source": [
    "# solution (17)\n",
    "\n",
    "# length_cm.min()\n",
    "# 3.06\n",
    "\n",
    "# length_cm.max()\n",
    "# 5.37\n",
    "\n",
    "#  np.percentile(length_cm , [25, 50, 75], method=’averaged_inverted_cdf’) \n",
    "# 3.72 3.93 4.32\n",
    "\n",
    "# length_cm.mean()\n",
    "# 4.03\n",
    "\n",
    "# length_cm.std(ddof=1)\n",
    "# 0.49\n",
    "\n",
    "np.random.seed(55)\n",
    "simsamples = stats.norm.rvs(size=(10000,30), loc=4.03, scale=0.49)\n",
    "sim_medians = np.median(simsamples,axis=1)\n",
    "print(sim_medians)\n",
    "print(np.percentile(sim_medians, [0.5, 99.5], method=\"averaged_inverted_cdf\"))\n",
    "print(np.quantile(sim_medians, [0.005, .995], method=\"averaged_inverted_cdf\"))"
   ]
  },
  {
   "cell_type": "markdown",
   "metadata": {},
   "source": [
    "### Question 19\n"
   ]
  },
  {
   "cell_type": "code",
   "execution_count": 84,
   "metadata": {},
   "outputs": [
    {
     "name": "stdout",
     "output_type": "stream",
     "text": [
      "t_obs = 2.2719517393383057\n",
      "Degrees of freedom = 21.803132989732557\n",
      "p-value = 0.033312222017054305\n"
     ]
    }
   ],
   "source": [
    "mu_A = 325\n",
    "mu_B = 286\n",
    "\n",
    "s_A = 40\n",
    "s_B = 44\n",
    "\n",
    "n_A = 12\n",
    "n_B = 12\n",
    "\n",
    "# Calculate t_obs\n",
    "t_obs = (mu_A - mu_B - 0) / np.sqrt((s_A**2) / n_A + (s_B**2) / n_B)\n",
    "print(f\"t_obs = {t_obs}\")\n",
    "\n",
    "# Degrees of freedom\n",
    "var_A = s_A**2\n",
    "var_B = s_B**2\n",
    "dfs = ((var_A / n_A + var_B / n_B)**2) / \\\n",
    "      ((var_A / n_A)**2 / (n_A - 1) + (var_B / n_B)**2 / (n_B - 1))\n",
    "print(f\"Degrees of freedom = {dfs}\")\n",
    "\n",
    "\n",
    "# p-value\n",
    "p_value = 2 * (1 - stats.t.cdf(abs(t_obs), dfs))\n",
    "print(f\"p-value = {p_value}\")\n",
    "\n",
    "# Since the p-value is greater than our alpha value, we cannot reject H0 and must conclude that their mean transport times are the same."
   ]
  },
  {
   "cell_type": "markdown",
   "metadata": {},
   "source": [
    "### Question 20"
   ]
  },
  {
   "cell_type": "code",
   "execution_count": null,
   "metadata": {},
   "outputs": [],
   "source": []
  }
 ],
 "metadata": {
  "kernelspec": {
   "display_name": "base",
   "language": "python",
   "name": "python3"
  },
  "language_info": {
   "codemirror_mode": {
    "name": "ipython",
    "version": 3
   },
   "file_extension": ".py",
   "mimetype": "text/x-python",
   "name": "python",
   "nbconvert_exporter": "python",
   "pygments_lexer": "ipython3",
   "version": "3.11.9"
  }
 },
 "nbformat": 4,
 "nbformat_minor": 2
}
